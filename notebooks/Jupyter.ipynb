{
 "cells": [
  {
   "cell_type": "markdown",
   "id": "eb264edc",
   "metadata": {},
   "source": [
    "**DATA LOADING**"
   ]
  },
  {
   "cell_type": "markdown",
   "id": "49370645",
   "metadata": {},
   "source": [
    "**FEATURE ENGINEERING AND DATA BALANCING**"
   ]
  },
  {
   "cell_type": "markdown",
   "id": "fc83012b",
   "metadata": {},
   "source": [
    "**TRAINING AND TESTING MODELS**"
   ]
  },
  {
   "cell_type": "markdown",
   "id": "701fcccd",
   "metadata": {},
   "source": [
    "**BEST THRESHOLD PREDICTION**"
   ]
  },
  {
   "cell_type": "markdown",
   "id": "374d4de8",
   "metadata": {},
   "source": [
    "**HYPERTUNING LOGISTIC REGRESSION**\n"
   ]
  },
  {
   "cell_type": "markdown",
   "id": "a6e6b5ed",
   "metadata": {},
   "source": [
    "**HYPERTUNING RANDOM FORREST**\n"
   ]
  }
 ],
 "metadata": {
  "kernelspec": {
   "display_name": "Python 3",
   "language": "python",
   "name": "python3"
  },
  "language_info": {
   "codemirror_mode": {
    "name": "ipython",
    "version": 3
   },
   "file_extension": ".py",
   "mimetype": "text/x-python",
   "name": "python",
   "nbconvert_exporter": "python",
   "pygments_lexer": "ipython3",
   "version": "3.14.0"
  }
 },
 "nbformat": 4,
 "nbformat_minor": 5
}
