{
 "cells": [
  {
   "cell_type": "code",
   "execution_count": null,
   "id": "08b7c168",
   "metadata": {},
   "outputs": [],
   "source": [
    "import pandas as pd\n",
    "import numpy as np\n",
    "import matplotlib.pyplot as plt\n",
    "import seaborn as sns\n",
    "\n",
    "try:\n",
    "    df=pd.read_csv('../data/fraudTest.csv')\n",
    "    print(\"Data loaded successfully!\")\n",
    "except FileNotFoundError:\n",
    "    print(\"Error: 'fraudTest.csv' not found. Make sure the file is in the '/data' folder.\")\n",
    "\n",
    "print(\"\\nFirst 5 rows of the dataset:\")\n",
    "print(df.head())\n",
    "\n",
    "print(\"\\nDataFrame Info:\")\n",
    "print(df.info())\n",
    "\n",
    "print(\"\\nClass Distribution:\")\n",
    "print(df['is_fraud'].value_counts(normalize=True) * 100)\n"
   ]
  },
  {
   "cell_type": "code",
   "execution_count": null,
   "id": "a63bd4cf",
   "metadata": {},
   "outputs": [],
   "source": [
    "from imblearn.over_sampling import SMOTE\n",
    "from collections import Counter\n",
    "\n",
    "df['trans_date_trans_time'] = pd.to_datetime(df['trans_date_trans_time'])\n",
    "\n",
    "df.rename(columns={'amt': 'Amount'}, inplace=True)\n",
    "\n",
    "df['cc_num'] = df['cc_num'].astype(str)\n",
    "df.sort_values(by=['cc_num', 'trans_date_trans_time'], inplace=True)\n",
    "df['time_since_last_transaction'] = df.groupby('cc_num')['trans_date_trans_time'].diff().dt.total_seconds() / 60\n",
    "\n",
    "df['transaction_frequency_3hr'] = df.groupby('cc_num')['trans_date_trans_time'].rolling('3H').count().reset_index(level=0, drop=True)\n",
    "\n",
    "df = pd.get_dummies(df, columns=['gender', 'job'], drop_first=True)\n",
    "\n",
    "df.drop(columns=['trans_date_trans_time', 'merchant', 'cc_num'], inplace=True)\n",
    "\n",
    "print(\"\\nDataFrame Info after Preprocessing:\")\n",
    "print(df.info())\n",
    "print(\"\\nFinal DataFrame Head:\")\n",
    "print(df.head())\n",
    "\n",
    "X = df.drop('is_fraud', axis=1)\n",
    "y = df['is_fraud']\n",
    "\n",
    "X['time_since_last_transaction'].fillna(0, inplace=True)\n",
    "\n",
    "sm = SMOTE(random_state=42)\n",
    "X_res, y_res = sm.fit_resample(X, y)\n",
    "\n",
    "print('\\nOriginal dataset shape %s' % Counter(y))\n",
    "print('Resampled dataset shape %s' % Counter(y_res))"
   ]
  }
 ],
 "metadata": {
  "kernelspec": {
   "display_name": "Python 3",
   "language": "python",
   "name": "python3"
  },
  "language_info": {
   "codemirror_mode": {
    "name": "ipython",
    "version": 3
   },
   "file_extension": ".py",
   "mimetype": "text/x-python",
   "name": "python",
   "nbconvert_exporter": "python",
   "pygments_lexer": "ipython3",
   "version": "3.12.3"
  }
 },
 "nbformat": 4,
 "nbformat_minor": 5
}
